{
 "cells": [
  {
   "cell_type": "code",
   "execution_count": 1,
   "id": "b82e874f",
   "metadata": {},
   "outputs": [],
   "source": [
    "from selenium import webdriver\n",
    "from selenium.webdriver.common.by import By\n",
    "from webdriver_manager.chrome import ChromeDriverManager\n",
    "from tqdm.auto import tqdm\n",
    "import pandas as pd"
   ]
  },
  {
   "cell_type": "code",
   "execution_count": 2,
   "id": "8e43e495",
   "metadata": {},
   "outputs": [
    {
     "name": "stdout",
     "output_type": "stream",
     "text": [
      "\n"
     ]
    },
    {
     "name": "stderr",
     "output_type": "stream",
     "text": [
      "[WDM] - ====== WebDriver manager ======\n",
      "[WDM] - Current google-chrome version is 102.0.5005\n",
      "[WDM] - Get LATEST chromedriver version for 102.0.5005 google-chrome\n",
      "[WDM] - Driver [C:\\Users\\Lenovo\\.wdm\\drivers\\chromedriver\\win32\\102.0.5005.61\\chromedriver.exe] found in cache\n",
      "C:\\Users\\Lenovo\\AppData\\Local\\Temp\\ipykernel_11752\\2409737876.py:2: DeprecationWarning: executable_path has been deprecated, please pass in a Service object\n",
      "  driver = webdriver.Chrome(ChromeDriverManager().install())\n"
     ]
    }
   ],
   "source": [
    "#Install Driver\n",
    "driver = webdriver.Chrome(ChromeDriverManager().install())"
   ]
  },
  {
   "cell_type": "code",
   "execution_count": 3,
   "id": "fb10f918",
   "metadata": {},
   "outputs": [],
   "source": [
    "#Specify Search URL \n",
    "search_url=\"https://statusneo.freshteam.com/jobs\" \n",
    "driver.get(search_url)"
   ]
  },
  {
   "cell_type": "code",
   "execution_count": 4,
   "id": "b71a114a",
   "metadata": {},
   "outputs": [
    {
     "data": {
      "text/plain": [
       "'Jobs | Home'"
      ]
     },
     "execution_count": 4,
     "metadata": {},
     "output_type": "execute_result"
    }
   ],
   "source": [
    "#Get the Header\n",
    "driver.find_element(by=By.XPATH, value=\"/html/body/header/div/nav/h4\").text"
   ]
  },
  {
   "cell_type": "code",
   "execution_count": 5,
   "id": "94794e96",
   "metadata": {},
   "outputs": [],
   "source": [
    "#For job posting\n",
    "job_list = driver.find_element(by=By.CLASS_NAME, value='job-role-list')\n",
    "job_list = job_list.find_elements(by=By.TAG_NAME, value=\"a\")"
   ]
  },
  {
   "cell_type": "code",
   "execution_count": 6,
   "id": "56630f42",
   "metadata": {
    "scrolled": true
   },
   "outputs": [
    {
     "data": {
      "application/vnd.jupyter.widget-view+json": {
       "model_id": "2c743bcdf55441bd8088d4cbd2810e64",
       "version_major": 2,
       "version_minor": 0
      },
      "text/plain": [
       "  0%|          | 0/56 [00:00<?, ?it/s]"
      ]
     },
     "metadata": {},
     "output_type": "display_data"
    }
   ],
   "source": [
    "job_title = []\n",
    "job_desc = []\n",
    "job_location = []\n",
    "job_link = []\n",
    "for job in tqdm(job_list):\n",
    "    row_details = job.find_element(by=By.CLASS_NAME, value=\"row\")\n",
    "    job_title.append(row_details.find_element(by=By.CLASS_NAME, value=\"job-title\").text)\n",
    "    job_desc.append(row_details.find_element(by=By.CLASS_NAME, value=\"job-desc\").text)\n",
    "    job_location.append(row_details.find_element(by=By.CLASS_NAME, value=\"location-info\").text)\n",
    "    job_link.append(job.get_attribute(\"href\"))"
   ]
  },
  {
   "cell_type": "code",
   "execution_count": 7,
   "id": "9af3c0e9",
   "metadata": {},
   "outputs": [],
   "source": [
    "job_location = [i.replace(\"\\n\",\" \") for i in job_location]"
   ]
  },
  {
   "cell_type": "code",
   "execution_count": 8,
   "id": "083dd1a9",
   "metadata": {},
   "outputs": [],
   "source": [
    "data = pd.DataFrame()\n",
    "data['Job Title'] = job_title\n",
    "data['Job Description'] = job_desc\n",
    "data['Job Location'] = job_location\n",
    "data.head()"
   ]
  },
  {
   "cell_type": "code",
   "execution_count": null,
   "id": "1d6984f1",
   "metadata": {},
   "outputs": [],
   "source": []
  }
 ],
 "metadata": {
  "kernelspec": {
   "display_name": "Python 3 (ipykernel)",
   "language": "python",
   "name": "python3"
  },
  "language_info": {
   "codemirror_mode": {
    "name": "ipython",
    "version": 3
   },
   "file_extension": ".py",
   "mimetype": "text/x-python",
   "name": "python",
   "nbconvert_exporter": "python",
   "pygments_lexer": "ipython3",
   "version": "3.9.12"
  }
 },
 "nbformat": 4,
 "nbformat_minor": 5
}
