{
 "cells": [
  {
   "cell_type": "code",
   "execution_count": 1,
   "id": "ecef7974",
   "metadata": {},
   "outputs": [],
   "source": [
    "import requests\n",
    "from bs4 import BeautifulSoup\n",
    "from tqdm.auto import tqdm\n",
    "import pandas as pd"
   ]
  },
  {
   "cell_type": "code",
   "execution_count": 2,
   "id": "4e60314c",
   "metadata": {},
   "outputs": [],
   "source": [
    "search_url=\"https://statusneo.freshteam.com/jobs\" \n",
    "page = requests.get(search_url)"
   ]
  },
  {
   "cell_type": "code",
   "execution_count": 3,
   "id": "c286f6e3",
   "metadata": {},
   "outputs": [],
   "source": [
    "soup = BeautifulSoup(page.content, \"html.parser\")"
   ]
  },
  {
   "cell_type": "code",
   "execution_count": 4,
   "id": "a959b28b",
   "metadata": {},
   "outputs": [
    {
     "data": {
      "text/plain": [
       "'Jobs | \\n  Home\\n'"
      ]
     },
     "execution_count": 4,
     "metadata": {},
     "output_type": "execute_result"
    }
   ],
   "source": [
    "soup.find(\"h4\",class_ = \"brand-text\").text"
   ]
  },
  {
   "cell_type": "code",
   "execution_count": 5,
   "id": "41ddd4a7",
   "metadata": {},
   "outputs": [],
   "source": [
    "job_list = soup.find(\"div\", class_=\"job-role-list\")\n",
    "job_list = job_list.find_all(\"a\")"
   ]
  },
  {
   "cell_type": "code",
   "execution_count": 6,
   "id": "c67461fe",
   "metadata": {},
   "outputs": [
    {
     "data": {
      "application/vnd.jupyter.widget-view+json": {
       "model_id": "9e69a702e034429aa1b1aee9fb95a364",
       "version_major": 2,
       "version_minor": 0
      },
      "text/plain": [
       "  0%|          | 0/56 [00:00<?, ?it/s]"
      ]
     },
     "metadata": {},
     "output_type": "display_data"
    }
   ],
   "source": [
    "job_title = []\n",
    "job_desc = []\n",
    "job_location = []\n",
    "job_link = []\n",
    "for job in tqdm(job_list):\n",
    "    job_title.append(job.find_all(\"div\")[2].text)\n",
    "    job_desc.append(job.find_all(\"div\")[3].text)\n",
    "    job_location.append(job.find_all(\"div\")[4].text)\n",
    "    job_link.append(job.attrs['href'])"
   ]
  },
  {
   "cell_type": "code",
   "execution_count": 7,
   "id": "1ef557cf",
   "metadata": {},
   "outputs": [],
   "source": [
    "job_desc = [i.replace(\"\\n\",\" \").replace(\"  \",\"\") for i in job_desc]\n",
    "job_location = [i.replace(\"\\n\",\" \").replace(\"  \",\"\") for i in job_location]"
   ]
  },
  {
   "cell_type": "code",
   "execution_count": 8,
   "id": "2696cbb1",
   "metadata": {},
   "outputs": [
    {
     "data": {
      "text/html": [
       "<div>\n",
       "<style scoped>\n",
       "    .dataframe tbody tr th:only-of-type {\n",
       "        vertical-align: middle;\n",
       "    }\n",
       "\n",
       "    .dataframe tbody tr th {\n",
       "        vertical-align: top;\n",
       "    }\n",
       "\n",
       "    .dataframe thead th {\n",
       "        text-align: right;\n",
       "    }\n",
       "</style>\n",
       "<table border=\"1\" class=\"dataframe\">\n",
       "  <thead>\n",
       "    <tr style=\"text-align: right;\">\n",
       "      <th></th>\n",
       "      <th>Job Title</th>\n",
       "      <th>Job Description</th>\n",
       "      <th>Job Location</th>\n",
       "    </tr>\n",
       "  </thead>\n",
       "  <tbody>\n",
       "    <tr>\n",
       "      <th>0</th>\n",
       "      <td>Digital Marketing Consultant</td>\n",
       "      <td>Your RolePlan and execute all digital marketi...</td>\n",
       "      <td>Gurugram, Haryana Full Time</td>\n",
       "    </tr>\n",
       "    <tr>\n",
       "      <th>1</th>\n",
       "      <td>Senior Finance Associate</td>\n",
       "      <td>Roles and Responsibilities:The primary respon...</td>\n",
       "      <td>Gurugram, Haryana Full Time</td>\n",
       "    </tr>\n",
       "    <tr>\n",
       "      <th>2</th>\n",
       "      <td>Travel Admin</td>\n",
       "      <td>Roles And ResponsibilitiesResponsible for day...</td>\n",
       "      <td>Gurugram, Haryana Full Time</td>\n",
       "    </tr>\n",
       "    <tr>\n",
       "      <th>3</th>\n",
       "      <td>Account Manager</td>\n",
       "      <td>Good communication skills are necessary.Has e...</td>\n",
       "      <td>Gurugram, Haryana Full Time</td>\n",
       "    </tr>\n",
       "    <tr>\n",
       "      <th>4</th>\n",
       "      <td>IT Recruiter</td>\n",
       "      <td>Job description Responsibilities* Handling th...</td>\n",
       "      <td>Gurugram, Haryana Full Time</td>\n",
       "    </tr>\n",
       "  </tbody>\n",
       "</table>\n",
       "</div>"
      ],
      "text/plain": [
       "                      Job Title  \\\n",
       "0  Digital Marketing Consultant   \n",
       "1      Senior Finance Associate   \n",
       "2                  Travel Admin   \n",
       "3               Account Manager   \n",
       "4                  IT Recruiter   \n",
       "\n",
       "                                     Job Description  \\\n",
       "0   Your RolePlan and execute all digital marketi...   \n",
       "1   Roles and Responsibilities:The primary respon...   \n",
       "2   Roles And ResponsibilitiesResponsible for day...   \n",
       "3   Good communication skills are necessary.Has e...   \n",
       "4   Job description Responsibilities* Handling th...   \n",
       "\n",
       "                   Job Location  \n",
       "0  Gurugram, Haryana Full Time   \n",
       "1  Gurugram, Haryana Full Time   \n",
       "2  Gurugram, Haryana Full Time   \n",
       "3  Gurugram, Haryana Full Time   \n",
       "4  Gurugram, Haryana Full Time   "
      ]
     },
     "execution_count": 8,
     "metadata": {},
     "output_type": "execute_result"
    }
   ],
   "source": [
    "data = pd.DataFrame()\n",
    "data['Job Title'] = job_title\n",
    "data['Job Description'] = job_desc\n",
    "data['Job Location'] = job_location\n",
    "data.head()"
   ]
  },
  {
   "cell_type": "code",
   "execution_count": 9,
   "id": "8fd90c95",
   "metadata": {},
   "outputs": [
    {
     "data": {
      "text/plain": [
       "56"
      ]
     },
     "execution_count": 9,
     "metadata": {},
     "output_type": "execute_result"
    }
   ],
   "source": [
    "len(data)"
   ]
  },
  {
   "cell_type": "code",
   "execution_count": null,
   "id": "f55e33c4",
   "metadata": {},
   "outputs": [],
   "source": []
  }
 ],
 "metadata": {
  "kernelspec": {
   "display_name": "Python 3 (ipykernel)",
   "language": "python",
   "name": "python3"
  },
  "language_info": {
   "codemirror_mode": {
    "name": "ipython",
    "version": 3
   },
   "file_extension": ".py",
   "mimetype": "text/x-python",
   "name": "python",
   "nbconvert_exporter": "python",
   "pygments_lexer": "ipython3",
   "version": "3.9.12"
  }
 },
 "nbformat": 4,
 "nbformat_minor": 5
}
